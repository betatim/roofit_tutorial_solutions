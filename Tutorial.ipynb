{
 "cells": [
  {
   "cell_type": "markdown",
   "metadata": {},
   "source": [
    "# A RooFit Tutorial"
   ]
  },
  {
   "cell_type": "markdown",
   "metadata": {},
   "source": [
    "This tutorial will teach you the basics of using `RooFit`.\n",
    "\n",
    "To start with we have to generate some data for use during the tutorial:"
   ]
  },
  {
   "cell_type": "code",
   "execution_count": 2,
   "metadata": {
    "collapsed": false
   },
   "outputs": [
    {
     "name": "stdout",
     "output_type": "stream",
     "text": [
      "\n",
      "Processing roofit_tutorial_generate_data.C...\n",
      "\n",
      "\u001b[1mRooFit v3.60 -- Developed by Wouter Verkerke and David Kirkby\u001b[0m \n",
      "                Copyright (C) 2000-2013 NIKHEF, University of California & Stanford University\n",
      "                All rights reserved, please read http://roofit.sourceforge.net/license.txt\n",
      "\n",
      "--- RooAddGenContext ---\n",
      "Using PDF RooAddPdf::model[ Nsig * signal + Nbkg * bkg ]\n",
      "List of component generators\n",
      "    --- RooProdGenContext ---\n",
      "    Using PDF     RooProdPdf::signal[ signal_mass * signal_time ]\n",
      "    List of component generators\n",
      "         --- RooGenContext --- \n",
      "        Using PDF         RooGaussian::signal_mass[ x=mass mean=signal_mass_mean sigma=signal_mass_sigma ]\n",
      "        Use PDF generator for (mass)\n",
      "        Use MC sampling generator <none> for ()\n",
      "         --- RooGenContext --- \n",
      "        Using PDF         RooExponential::signal_time[ x=time c=signal_exponent ]\n",
      "        Use PDF generator for ()\n",
      "        Use MC sampling generator RooFoamGenerator for (time)\n",
      "    --- RooProdGenContext ---\n",
      "    Using PDF     RooProdPdf::bkg[ bkg_mass * bkg_time ]\n",
      "    List of component generators\n",
      "         --- RooGenContext --- \n",
      "        Using PDF         RooPolynomial::bkg_mass[ x=mass coefList=(bkg_mass_p0,bkg_mass_p1) ]\n",
      "        Use PDF generator for ()\n",
      "        Use MC sampling generator RooFoamGenerator for (mass)\n",
      "         --- RooGenContext --- \n",
      "        Using PDF         RooExponential::bkg_time[ x=time c=bkg_exponent ]\n",
      "        Use PDF generator for ()\n",
      "        Use MC sampling generator RooFoamGenerator for (time)\n",
      "Done generating\n"
     ]
    }
   ],
   "source": [
    "%%bash\n",
    "root.exe -b -l -q roofit_tutorial_generate_data.C"
   ]
  },
  {
   "cell_type": "code",
   "execution_count": null,
   "metadata": {
    "collapsed": true
   },
   "outputs": [],
   "source": []
  }
 ],
 "metadata": {
  "kernelspec": {
   "display_name": "Python 2",
   "language": "python",
   "name": "python2"
  },
  "language_info": {
   "codemirror_mode": {
    "name": "ipython",
    "version": 2
   },
   "file_extension": ".py",
   "mimetype": "text/x-python",
   "name": "python",
   "nbconvert_exporter": "python",
   "pygments_lexer": "ipython2",
   "version": "2.7.10"
  }
 },
 "nbformat": 4,
 "nbformat_minor": 0
}
